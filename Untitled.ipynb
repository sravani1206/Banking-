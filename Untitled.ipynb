{
 "cells": [
  {
   "cell_type": "code",
   "execution_count": 3,
   "id": "29ad1f32-8cd3-40b9-98d0-21b4447a237d",
   "metadata": {},
   "outputs": [],
   "source": [
    "#pymysql"
   ]
  },
  {
   "cell_type": "code",
   "execution_count": 7,
   "id": "788fe9e1-3cb9-4405-af64-9b98605b2176",
   "metadata": {},
   "outputs": [],
   "source": [
    "import pandas as pd\n",
    "import matplotlib.pyplot as plt\n",
    "import seaborn as sns\n",
    "import numpy as np"
   ]
  },
  {
   "cell_type": "code",
   "execution_count": 1,
   "id": "dd061826-b6b5-4dc1-8557-28bf2ca40e79",
   "metadata": {},
   "outputs": [
    {
     "name": "stdout",
     "output_type": "stream",
     "text": [
      "Requirement already satisfied: mysql-connector-python in c:\\users\\srava\\anaconda3\\lib\\site-packages (9.3.0)\n",
      "Note: you may need to restart the kernel to use updated packages.\n"
     ]
    }
   ],
   "source": [
    "pip install mysql-connector-python"
   ]
  },
  {
   "cell_type": "code",
   "execution_count": 3,
   "id": "1fa14318-0820-4d1c-a7f7-50adcc6ad76f",
   "metadata": {},
   "outputs": [],
   "source": [
    "import mysql.connector\n",
    "\n",
    "# Connect to server\n",
    "cnx = mysql.connector.connect(\n",
    "    host=\"127.0.0.1\",\n",
    "    port=3306,\n",
    "    user=\"root\",\n",
    "    password=\"ss08\")"
   ]
  },
  {
   "cell_type": "code",
   "execution_count": 5,
   "id": "2ced9462-cf3d-4677-bfc2-5481140f7850",
   "metadata": {},
   "outputs": [],
   "source": [
    "query = \"SELECT * FROM banking_case1.customer\""
   ]
  },
  {
   "cell_type": "code",
   "execution_count": 8,
   "id": "7ab8460c-9de4-4f61-8f52-7b432d2dc94a",
   "metadata": {},
   "outputs": [
    {
     "name": "stderr",
     "output_type": "stream",
     "text": [
      "C:\\Users\\srava\\AppData\\Local\\Temp\\ipykernel_14920\\143517251.py:1: UserWarning: pandas only supports SQLAlchemy connectable (engine/connection) or database string URI or sqlite3 DBAPI2 connection. Other DBAPI2 objects are not tested. Please consider using SQLAlchemy.\n",
      "  df = pd. read_sql(query, cnx)\n"
     ]
    }
   ],
   "source": [
    "df = pd. read_sql(query, cnx)"
   ]
  },
  {
   "cell_type": "code",
   "execution_count": 13,
   "id": "a619dbc3-2cc5-47a4-8624-245a94161d65",
   "metadata": {},
   "outputs": [
    {
     "data": {
      "text/html": [
       "<div>\n",
       "<style scoped>\n",
       "    .dataframe tbody tr th:only-of-type {\n",
       "        vertical-align: middle;\n",
       "    }\n",
       "\n",
       "    .dataframe tbody tr th {\n",
       "        vertical-align: top;\n",
       "    }\n",
       "\n",
       "    .dataframe thead th {\n",
       "        text-align: right;\n",
       "    }\n",
       "</style>\n",
       "<table border=\"1\" class=\"dataframe\">\n",
       "  <thead>\n",
       "    <tr style=\"text-align: right;\">\n",
       "      <th></th>\n",
       "      <th>ï»¿Client ID</th>\n",
       "      <th>Name</th>\n",
       "      <th>Age</th>\n",
       "      <th>Location ID</th>\n",
       "      <th>Joined Bank</th>\n",
       "      <th>Banking Contact</th>\n",
       "      <th>Nationality</th>\n",
       "      <th>Occupation</th>\n",
       "      <th>Fee Structure</th>\n",
       "      <th>Loyalty Classification</th>\n",
       "      <th>...</th>\n",
       "      <th>Bank Deposits</th>\n",
       "      <th>Checking Accounts</th>\n",
       "      <th>Saving Accounts</th>\n",
       "      <th>Foreign Currency Account</th>\n",
       "      <th>Business Lending</th>\n",
       "      <th>Properties Owned</th>\n",
       "      <th>Risk Weighting</th>\n",
       "      <th>BRId</th>\n",
       "      <th>GenderId</th>\n",
       "      <th>IAId</th>\n",
       "    </tr>\n",
       "  </thead>\n",
       "  <tbody>\n",
       "    <tr>\n",
       "      <th>0</th>\n",
       "      <td>IND81288</td>\n",
       "      <td>Raymond Mills</td>\n",
       "      <td>24</td>\n",
       "      <td>34324</td>\n",
       "      <td>06-05-2019</td>\n",
       "      <td>Anthony Torres</td>\n",
       "      <td>American</td>\n",
       "      <td>Safety Technician IV</td>\n",
       "      <td>High</td>\n",
       "      <td>Jade</td>\n",
       "      <td>...</td>\n",
       "      <td>1485828.64</td>\n",
       "      <td>603617.88</td>\n",
       "      <td>607332.46</td>\n",
       "      <td>12249.96</td>\n",
       "      <td>1134475.30</td>\n",
       "      <td>1</td>\n",
       "      <td>2</td>\n",
       "      <td>1</td>\n",
       "      <td>1</td>\n",
       "      <td>1</td>\n",
       "    </tr>\n",
       "    <tr>\n",
       "      <th>1</th>\n",
       "      <td>IND65833</td>\n",
       "      <td>Julia Spencer</td>\n",
       "      <td>23</td>\n",
       "      <td>42205</td>\n",
       "      <td>10-12-2001</td>\n",
       "      <td>Jonathan Hawkins</td>\n",
       "      <td>African</td>\n",
       "      <td>Software Consultant</td>\n",
       "      <td>High</td>\n",
       "      <td>Jade</td>\n",
       "      <td>...</td>\n",
       "      <td>641482.79</td>\n",
       "      <td>229521.37</td>\n",
       "      <td>344635.16</td>\n",
       "      <td>61162.31</td>\n",
       "      <td>2000526.10</td>\n",
       "      <td>1</td>\n",
       "      <td>3</td>\n",
       "      <td>2</td>\n",
       "      <td>1</td>\n",
       "      <td>2</td>\n",
       "    </tr>\n",
       "    <tr>\n",
       "      <th>2</th>\n",
       "      <td>IND47499</td>\n",
       "      <td>Stephen Murray</td>\n",
       "      <td>27</td>\n",
       "      <td>7314</td>\n",
       "      <td>25-01-2010</td>\n",
       "      <td>Anthony Berry</td>\n",
       "      <td>European</td>\n",
       "      <td>Help Desk Operator</td>\n",
       "      <td>High</td>\n",
       "      <td>Gold</td>\n",
       "      <td>...</td>\n",
       "      <td>1033401.59</td>\n",
       "      <td>652674.69</td>\n",
       "      <td>203054.35</td>\n",
       "      <td>79071.78</td>\n",
       "      <td>548137.58</td>\n",
       "      <td>1</td>\n",
       "      <td>3</td>\n",
       "      <td>3</td>\n",
       "      <td>2</td>\n",
       "      <td>3</td>\n",
       "    </tr>\n",
       "    <tr>\n",
       "      <th>3</th>\n",
       "      <td>IND72498</td>\n",
       "      <td>Virginia Garza</td>\n",
       "      <td>40</td>\n",
       "      <td>34594</td>\n",
       "      <td>28-03-2019</td>\n",
       "      <td>Steve Diaz</td>\n",
       "      <td>American</td>\n",
       "      <td>Geologist II</td>\n",
       "      <td>Mid</td>\n",
       "      <td>Silver</td>\n",
       "      <td>...</td>\n",
       "      <td>1048157.49</td>\n",
       "      <td>1048157.49</td>\n",
       "      <td>234685.02</td>\n",
       "      <td>57513.65</td>\n",
       "      <td>1148402.29</td>\n",
       "      <td>0</td>\n",
       "      <td>4</td>\n",
       "      <td>4</td>\n",
       "      <td>1</td>\n",
       "      <td>4</td>\n",
       "    </tr>\n",
       "    <tr>\n",
       "      <th>4</th>\n",
       "      <td>IND60181</td>\n",
       "      <td>Melissa Sanders</td>\n",
       "      <td>46</td>\n",
       "      <td>41269</td>\n",
       "      <td>20-07-2012</td>\n",
       "      <td>Shawn Long</td>\n",
       "      <td>American</td>\n",
       "      <td>Assistant Professor</td>\n",
       "      <td>Mid</td>\n",
       "      <td>Platinum</td>\n",
       "      <td>...</td>\n",
       "      <td>487782.53</td>\n",
       "      <td>446644.25</td>\n",
       "      <td>128351.45</td>\n",
       "      <td>30012.14</td>\n",
       "      <td>1674412.12</td>\n",
       "      <td>0</td>\n",
       "      <td>3</td>\n",
       "      <td>1</td>\n",
       "      <td>2</td>\n",
       "      <td>5</td>\n",
       "    </tr>\n",
       "  </tbody>\n",
       "</table>\n",
       "<p>5 rows × 25 columns</p>\n",
       "</div>"
      ],
      "text/plain": [
       "  ï»¿Client ID             Name  Age  Location ID Joined Bank  \\\n",
       "0     IND81288    Raymond Mills   24        34324  06-05-2019   \n",
       "1     IND65833    Julia Spencer   23        42205  10-12-2001   \n",
       "2     IND47499   Stephen Murray   27         7314  25-01-2010   \n",
       "3     IND72498   Virginia Garza   40        34594  28-03-2019   \n",
       "4     IND60181  Melissa Sanders   46        41269  20-07-2012   \n",
       "\n",
       "    Banking Contact Nationality            Occupation Fee Structure  \\\n",
       "0    Anthony Torres    American  Safety Technician IV          High   \n",
       "1  Jonathan Hawkins     African   Software Consultant          High   \n",
       "2     Anthony Berry    European    Help Desk Operator          High   \n",
       "3        Steve Diaz    American          Geologist II           Mid   \n",
       "4        Shawn Long    American   Assistant Professor           Mid   \n",
       "\n",
       "  Loyalty Classification  ...  Bank Deposits  Checking Accounts  \\\n",
       "0                   Jade  ...     1485828.64          603617.88   \n",
       "1                   Jade  ...      641482.79          229521.37   \n",
       "2                   Gold  ...     1033401.59          652674.69   \n",
       "3                 Silver  ...     1048157.49         1048157.49   \n",
       "4               Platinum  ...      487782.53          446644.25   \n",
       "\n",
       "   Saving Accounts  Foreign Currency Account  Business Lending  \\\n",
       "0        607332.46                  12249.96        1134475.30   \n",
       "1        344635.16                  61162.31        2000526.10   \n",
       "2        203054.35                  79071.78         548137.58   \n",
       "3        234685.02                  57513.65        1148402.29   \n",
       "4        128351.45                  30012.14        1674412.12   \n",
       "\n",
       "   Properties Owned  Risk Weighting  BRId  GenderId  IAId  \n",
       "0                 1               2     1         1     1  \n",
       "1                 1               3     2         1     2  \n",
       "2                 1               3     3         2     3  \n",
       "3                 0               4     4         1     4  \n",
       "4                 0               3     1         2     5  \n",
       "\n",
       "[5 rows x 25 columns]"
      ]
     },
     "execution_count": 13,
     "metadata": {},
     "output_type": "execute_result"
    }
   ],
   "source": [
    "df.head(5)"
   ]
  },
  {
   "cell_type": "code",
   "execution_count": 15,
   "id": "3128bf68-5cd0-40fe-bc0a-bfde34d637f4",
   "metadata": {},
   "outputs": [
    {
     "data": {
      "text/plain": [
       "(3000, 25)"
      ]
     },
     "execution_count": 15,
     "metadata": {},
     "output_type": "execute_result"
    }
   ],
   "source": [
    "df.shape"
   ]
  },
  {
   "cell_type": "code",
   "execution_count": null,
   "id": "ce69141f-4e58-4693-b902-7bccf36f0e9a",
   "metadata": {},
   "outputs": [],
   "source": []
  }
 ],
 "metadata": {
  "kernelspec": {
   "display_name": "Python [conda env:base] *",
   "language": "python",
   "name": "conda-base-py"
  },
  "language_info": {
   "codemirror_mode": {
    "name": "ipython",
    "version": 3
   },
   "file_extension": ".py",
   "mimetype": "text/x-python",
   "name": "python",
   "nbconvert_exporter": "python",
   "pygments_lexer": "ipython3",
   "version": "3.12.7"
  }
 },
 "nbformat": 4,
 "nbformat_minor": 5
}
